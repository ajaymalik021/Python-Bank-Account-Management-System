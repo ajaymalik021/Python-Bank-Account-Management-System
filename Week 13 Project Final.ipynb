{
 "cells": [
  {
   "cell_type": "code",
   "execution_count": 1,
   "id": "c70b8b75-6605-494c-b195-19f095029bab",
   "metadata": {},
   "outputs": [
    {
     "name": "stdout",
     "output_type": "stream",
     "text": [
      "Welcome to WsCube Bank\n",
      "Menu Options: \n",
      "\n",
      "    press 1 for opening an account\n",
      "    press 2 for view transaction details\n",
      "    press 3 to withdraw/deposit/transfer\n",
      "    press 4 to view transaction history\n",
      "    press 5 to exit program\n",
      "    \n"
     ]
    },
    {
     "name": "stdin",
     "output_type": "stream",
     "text": [
      "Enter your choice between 1-5:  1\n",
      "Enter PAN card number:  abcd\n",
      "Enter your name here:  nivi\n",
      "Savings/Current?  savings\n",
      "Enter initial deposit:  5000\n",
      "Set your account password:  malik\n"
     ]
    },
    {
     "name": "stdout",
     "output_type": "stream",
     "text": [
      "Account created successfully!\n",
      "Your account number is: 98765432108737\n",
      "Menu Options: \n",
      "\n",
      "    press 1 for opening an account\n",
      "    press 2 for view transaction details\n",
      "    press 3 to withdraw/deposit/transfer\n",
      "    press 4 to view transaction history\n",
      "    press 5 to exit program\n",
      "    \n"
     ]
    },
    {
     "name": "stdin",
     "output_type": "stream",
     "text": [
      "Enter your choice between 1-5:  3\n"
     ]
    },
    {
     "name": "stdout",
     "output_type": "stream",
     "text": [
      "\n",
      "        press 1 to withdraw\n",
      "        press 2 to deposit\n",
      "        press 3 to transfer\n",
      "        \n"
     ]
    },
    {
     "name": "stdin",
     "output_type": "stream",
     "text": [
      "Enter a choice between 1 to 3:  1\n",
      "Enter your PAN card number:  abcd\n",
      "Enter your account password:  malik\n",
      "Enter amount you wish to withdraw:  6000\n"
     ]
    },
    {
     "name": "stdout",
     "output_type": "stream",
     "text": [
      "The amount you mentioned is more than your deposited amount.\n",
      "Menu Options: \n",
      "\n",
      "    press 1 for opening an account\n",
      "    press 2 for view transaction details\n",
      "    press 3 to withdraw/deposit/transfer\n",
      "    press 4 to view transaction history\n",
      "    press 5 to exit program\n",
      "    \n"
     ]
    },
    {
     "name": "stdin",
     "output_type": "stream",
     "text": [
      "Enter your choice between 1-5:  3\n"
     ]
    },
    {
     "name": "stdout",
     "output_type": "stream",
     "text": [
      "\n",
      "        press 1 to withdraw\n",
      "        press 2 to deposit\n",
      "        press 3 to transfer\n",
      "        \n"
     ]
    },
    {
     "name": "stdin",
     "output_type": "stream",
     "text": [
      "Enter a choice between 1 to 3:  1\n",
      "Enter your PAN card number:  abcd\n",
      "Enter your account password:  malik\n",
      "Enter amount you wish to withdraw:  1000\n"
     ]
    },
    {
     "name": "stdout",
     "output_type": "stream",
     "text": [
      "Withdrawal successful!\n",
      "Menu Options: \n",
      "\n",
      "    press 1 for opening an account\n",
      "    press 2 for view transaction details\n",
      "    press 3 to withdraw/deposit/transfer\n",
      "    press 4 to view transaction history\n",
      "    press 5 to exit program\n",
      "    \n"
     ]
    },
    {
     "name": "stdin",
     "output_type": "stream",
     "text": [
      "Enter your choice between 1-5:  4\n",
      "Enter your PAN card number:  abcd\n",
      "Enter your account password:  malik\n"
     ]
    },
    {
     "name": "stdout",
     "output_type": "stream",
     "text": [
      "Your transactions are: \n",
      "--------------------------------------------------\n",
      "Date and Time         Amount   Type   Current Amount\n",
      "--------------------------------------------------\n",
      "2025-01-26 10:15:19   1000.0   debited   4000.0\n",
      "Menu Options: \n",
      "\n",
      "    press 1 for opening an account\n",
      "    press 2 for view transaction details\n",
      "    press 3 to withdraw/deposit/transfer\n",
      "    press 4 to view transaction history\n",
      "    press 5 to exit program\n",
      "    \n"
     ]
    },
    {
     "name": "stdin",
     "output_type": "stream",
     "text": [
      "Enter your choice between 1-5:  1\n",
      "Enter PAN card number:  abcde\n",
      "Enter your name here:  ajay\n",
      "Savings/Current?  savings\n",
      "Enter initial deposit:  10000\n",
      "Set your account password:  mann\n"
     ]
    },
    {
     "name": "stdout",
     "output_type": "stream",
     "text": [
      "Account created successfully!\n",
      "Your account number is: 98765432105920\n",
      "Menu Options: \n",
      "\n",
      "    press 1 for opening an account\n",
      "    press 2 for view transaction details\n",
      "    press 3 to withdraw/deposit/transfer\n",
      "    press 4 to view transaction history\n",
      "    press 5 to exit program\n",
      "    \n"
     ]
    },
    {
     "name": "stdin",
     "output_type": "stream",
     "text": [
      "Enter your choice between 1-5:  3\n"
     ]
    },
    {
     "name": "stdout",
     "output_type": "stream",
     "text": [
      "\n",
      "        press 1 to withdraw\n",
      "        press 2 to deposit\n",
      "        press 3 to transfer\n",
      "        \n"
     ]
    },
    {
     "name": "stdin",
     "output_type": "stream",
     "text": [
      "Enter a choice between 1 to 3:  2\n",
      "Enter your PAN card number:  abcd\n",
      "Enter your account password:  malik\n",
      "Enter amount you wish to deposit:  16000\n"
     ]
    },
    {
     "name": "stdout",
     "output_type": "stream",
     "text": [
      "Deposit successful!\n",
      "Menu Options: \n",
      "\n",
      "    press 1 for opening an account\n",
      "    press 2 for view transaction details\n",
      "    press 3 to withdraw/deposit/transfer\n",
      "    press 4 to view transaction history\n",
      "    press 5 to exit program\n",
      "    \n"
     ]
    },
    {
     "name": "stdin",
     "output_type": "stream",
     "text": [
      "Enter your choice between 1-5:  4\n",
      "Enter your PAN card number:  abcd\n",
      "Enter your account password:  malik\n"
     ]
    },
    {
     "name": "stdout",
     "output_type": "stream",
     "text": [
      "Your transactions are: \n",
      "--------------------------------------------------\n",
      "Date and Time         Amount   Type   Current Amount\n",
      "--------------------------------------------------\n",
      "2025-01-26 10:15:19   1000.0   debited   4000.0\n",
      "2025-01-26 10:16:38   16000.0   credited   20000.0\n",
      "Menu Options: \n",
      "\n",
      "    press 1 for opening an account\n",
      "    press 2 for view transaction details\n",
      "    press 3 to withdraw/deposit/transfer\n",
      "    press 4 to view transaction history\n",
      "    press 5 to exit program\n",
      "    \n"
     ]
    },
    {
     "name": "stdin",
     "output_type": "stream",
     "text": [
      "Enter your choice between 1-5:  3\n"
     ]
    },
    {
     "name": "stdout",
     "output_type": "stream",
     "text": [
      "\n",
      "        press 1 to withdraw\n",
      "        press 2 to deposit\n",
      "        press 3 to transfer\n",
      "        \n"
     ]
    },
    {
     "name": "stdin",
     "output_type": "stream",
     "text": [
      "Enter a choice between 1 to 3:  3\n",
      "Enter your PAN card number:  abcde\n",
      "Enter your account password:  mann\n",
      "Enter recipient's PAN card number:  abcd\n",
      "Enter amount you wish to transfer:  5000\n"
     ]
    },
    {
     "name": "stdout",
     "output_type": "stream",
     "text": [
      "Transfer successful!\n",
      "Menu Options: \n",
      "\n",
      "    press 1 for opening an account\n",
      "    press 2 for view transaction details\n",
      "    press 3 to withdraw/deposit/transfer\n",
      "    press 4 to view transaction history\n",
      "    press 5 to exit program\n",
      "    \n"
     ]
    },
    {
     "name": "stdin",
     "output_type": "stream",
     "text": [
      "Enter your choice between 1-5:  4\n",
      "Enter your PAN card number:  abcd\n",
      "Enter your account password:  malik\n"
     ]
    },
    {
     "name": "stdout",
     "output_type": "stream",
     "text": [
      "Your transactions are: \n",
      "--------------------------------------------------\n",
      "Date and Time         Amount   Type   Current Amount\n",
      "--------------------------------------------------\n",
      "2025-01-26 10:15:19   1000.0   debited   4000.0\n",
      "2025-01-26 10:16:38   16000.0   credited   20000.0\n",
      "2025-01-26 10:17:30   5000.0   credited   25000.0\n",
      "Menu Options: \n",
      "\n",
      "    press 1 for opening an account\n",
      "    press 2 for view transaction details\n",
      "    press 3 to withdraw/deposit/transfer\n",
      "    press 4 to view transaction history\n",
      "    press 5 to exit program\n",
      "    \n"
     ]
    },
    {
     "name": "stdin",
     "output_type": "stream",
     "text": [
      "Enter your choice between 1-5:  4\n",
      "Enter your PAN card number:  abcde\n",
      "Enter your account password:  mann\n"
     ]
    },
    {
     "name": "stdout",
     "output_type": "stream",
     "text": [
      "Your transactions are: \n",
      "--------------------------------------------------\n",
      "Date and Time         Amount   Type   Current Amount\n",
      "--------------------------------------------------\n",
      "2025-01-26 10:17:30   5000.0   debited   5000.0\n",
      "Menu Options: \n",
      "\n",
      "    press 1 for opening an account\n",
      "    press 2 for view transaction details\n",
      "    press 3 to withdraw/deposit/transfer\n",
      "    press 4 to view transaction history\n",
      "    press 5 to exit program\n",
      "    \n"
     ]
    },
    {
     "name": "stdin",
     "output_type": "stream",
     "text": [
      "Enter your choice between 1-5:  5\n"
     ]
    },
    {
     "name": "stdout",
     "output_type": "stream",
     "text": [
      "Thank you for using WsCube Bank!\n"
     ]
    }
   ],
   "source": [
    "import base64\n",
    "import datetime as dt\n",
    "import random\n",
    "\n",
    "# Dictionaries to store account details and transactions\n",
    "account_details = {}\n",
    "transactions = {}\n",
    "\n",
    "# Function to encrypt PAN card\n",
    "def encrypt_pan(pan_card):\n",
    "    return base64.b64encode(pan_card.encode()).decode()\n",
    "\n",
    "# Function to decrypt PAN card\n",
    "def decrypt_pan(encrypted_pan):\n",
    "    return base64.b64decode(encrypted_pan.encode()).decode()\n",
    "\n",
    "print(\"Welcome to WsCube Bank\")\n",
    "\n",
    "while True:\n",
    "    print(\"Menu Options: \")\n",
    "    print(\"\"\"\n",
    "    press 1 for opening an account\n",
    "    press 2 for view transaction details\n",
    "    press 3 to withdraw/deposit/transfer\n",
    "    press 4 to view transaction history\n",
    "    press 5 to exit program\n",
    "    \"\"\")\n",
    "\n",
    "    choice = int(input(\"Enter your choice between 1-5: \"))\n",
    "\n",
    "    if choice == 1:  # Open Account\n",
    "        pan_card = input(\"Enter PAN card number: \")\n",
    "        name = input(\"Enter your name here: \")\n",
    "        account_type = input(\"Savings/Current? \")\n",
    "        initial_deposit = float(input(\"Enter initial deposit: \"))\n",
    "        password = input(\"Set your account password: \")\n",
    "\n",
    "        # Encrypt PAN card for security\n",
    "        encrypted_pan = encrypt_pan(pan_card)\n",
    "        account_no = \"9876543210\" + str(random.randint(1000, 9999))\n",
    "        while account_no in [details[3] for details in account_details.values()]:\n",
    "            account_no = \"9876543210\" + str(random.randint(1000, 9999))  # Ensure unique account number\n",
    "\n",
    "        # Store details\n",
    "        details = [name, account_type, initial_deposit, account_no, password]\n",
    "        account_details[encrypted_pan] = details\n",
    "        print(\"Account created successfully!\")\n",
    "        print(\"Your account number is:\", account_no)\n",
    "\n",
    "    elif choice == 2:  # View Account Details\n",
    "        pan_card = input(\"Enter your PAN card number: \")\n",
    "        encrypted_pan = encrypt_pan(pan_card)\n",
    "\n",
    "        if encrypted_pan in account_details:\n",
    "            password = input(\"Enter your account password: \")\n",
    "            if password == account_details[encrypted_pan][4]:\n",
    "                print(\"Your Account details are: \")\n",
    "                print(\"Account Holder's Name: \", account_details[encrypted_pan][0])\n",
    "                print(\"Account Type: \", account_details[encrypted_pan][1])\n",
    "                print(\"Account Number: \", account_details[encrypted_pan][3])\n",
    "                print(\"Total Balance: \", account_details[encrypted_pan][2])\n",
    "            else:\n",
    "                print(\"Incorrect password.\")\n",
    "        else:\n",
    "            print(\"Account not found.\")\n",
    "\n",
    "    elif choice == 3:  # Transactions\n",
    "        print(\"\"\"\n",
    "        press 1 to withdraw\n",
    "        press 2 to deposit\n",
    "        press 3 to transfer\n",
    "        \"\"\")\n",
    "        n_choice = int(input(\"Enter a choice between 1 to 3: \"))\n",
    "\n",
    "        pan_card = input(\"Enter your PAN card number: \")\n",
    "        encrypted_pan = encrypt_pan(pan_card)\n",
    "\n",
    "        if encrypted_pan in account_details:\n",
    "            password = input(\"Enter your account password: \")\n",
    "            if password == account_details[encrypted_pan][4]:\n",
    "                if n_choice == 1:  # Withdraw\n",
    "                    amount = float(input(\"Enter amount you wish to withdraw: \"))\n",
    "                    if amount > account_details[encrypted_pan][2]:\n",
    "                        print(\"The amount you mentioned is more than your deposited amount.\")\n",
    "                    else:\n",
    "                        account_details[encrypted_pan][2] -= amount\n",
    "                        timestamp = dt.datetime.now().strftime(\"%Y-%m-%d %H:%M:%S\")\n",
    "                        t_data = [amount, \"debited\", account_details[encrypted_pan][2]]\n",
    "                        transactions.setdefault(encrypted_pan, {})[timestamp] = t_data\n",
    "                        print(\"Withdrawal successful!\")\n",
    "\n",
    "                elif n_choice == 2:  # Deposit\n",
    "                    amount = float(input(\"Enter amount you wish to deposit: \"))\n",
    "                    account_details[encrypted_pan][2] += amount\n",
    "                    timestamp = dt.datetime.now().strftime(\"%Y-%m-%d %H:%M:%S\")\n",
    "                    t_data = [amount, \"credited\", account_details[encrypted_pan][2]]\n",
    "                    transactions.setdefault(encrypted_pan, {})[timestamp] = t_data\n",
    "                    print(\"Deposit successful!\")\n",
    "\n",
    "                elif n_choice == 3:  # Transfer\n",
    "                    recipient_pan = input(\"Enter recipient's PAN card number: \")\n",
    "                    encrypted_recipient_pan = encrypt_pan(recipient_pan)\n",
    "                    if encrypted_recipient_pan in account_details:\n",
    "                        amount = float(input(\"Enter amount you wish to transfer: \"))\n",
    "                        if amount > account_details[encrypted_pan][2]:\n",
    "                            print(\"The amount you mentioned is more than your deposited amount.\")\n",
    "                        else:\n",
    "                            account_details[encrypted_pan][2] -= amount\n",
    "                            account_details[encrypted_recipient_pan][2] += amount\n",
    "\n",
    "                            timestamp = dt.datetime.now().strftime(\"%Y-%m-%d %H:%M:%S\")\n",
    "\n",
    "                            # Debit from sender\n",
    "                            t_data_sender = [amount, \"debited\", account_details[encrypted_pan][2]]\n",
    "                            transactions.setdefault(encrypted_pan, {})[timestamp] = t_data_sender\n",
    "\n",
    "                            # Credit to recipient\n",
    "                            t_data_recipient = [amount, \"credited\", account_details[encrypted_recipient_pan][2]]\n",
    "                            transactions.setdefault(encrypted_recipient_pan, {})[timestamp] = t_data_recipient\n",
    "\n",
    "                            print(\"Transfer successful!\")\n",
    "                    else:\n",
    "                        print(\"Recipient account not found.\")\n",
    "            else:\n",
    "                print(\"Incorrect password.\")\n",
    "        else:\n",
    "            print(\"Account not found.\")\n",
    "\n",
    "    elif choice == 4:  # View Transaction History\n",
    "        pan_card = input(\"Enter your PAN card number: \")\n",
    "        encrypted_pan = encrypt_pan(pan_card)\n",
    "\n",
    "        if encrypted_pan in transactions:\n",
    "            password = input(\"Enter your account password: \")\n",
    "            if password == account_details[encrypted_pan][4]:\n",
    "                print(\"Your transactions are: \")\n",
    "                print(\"-\" * 50)\n",
    "                print(\"Date and Time\" + \" \" * 9 + \"Amount\" + \" \" * 3 + \"Type\" + \" \" * 3 + \"Current Amount\")\n",
    "                print(\"-\" * 50)\n",
    "                for ts, t_data in transactions[encrypted_pan].items():\n",
    "                    print(f\"{ts}   {t_data[0]}   {t_data[1]}   {t_data[2]}\")\n",
    "            else:\n",
    "                print(\"Incorrect password.\")\n",
    "        else:\n",
    "            print(\"No transactions found for this account.\")\n",
    "\n",
    "    elif choice == 5:  # Exit\n",
    "        print(\"Thank you for using WsCube Bank!\")\n",
    "        break\n"
   ]
  },
  {
   "cell_type": "code",
   "execution_count": null,
   "id": "b2bd9858-eb65-46fe-bd46-2c34e3a69907",
   "metadata": {},
   "outputs": [],
   "source": []
  }
 ],
 "metadata": {
  "kernelspec": {
   "display_name": "Python 3 (ipykernel)",
   "language": "python",
   "name": "python3"
  },
  "language_info": {
   "codemirror_mode": {
    "name": "ipython",
    "version": 3
   },
   "file_extension": ".py",
   "mimetype": "text/x-python",
   "name": "python",
   "nbconvert_exporter": "python",
   "pygments_lexer": "ipython3",
   "version": "3.13.1"
  }
 },
 "nbformat": 4,
 "nbformat_minor": 5
}
